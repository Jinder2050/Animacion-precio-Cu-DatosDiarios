{
 "cells": [
  {
   "cell_type": "markdown",
   "id": "fb616bb8",
   "metadata": {},
   "source": [
    "<div style=\"text-align: center;\">\n",
    "    <img src=\"https://hexagon.com/-/media/project/one-web/master-site/industries/how-hexagon-creates-value-for-mining/hexagon-creates-value-for-the-mining-industry-mine-site-heromarquee.jpg\" alt=\"Future Mining\" style=\"max-width: 100%; max-height: 100%;\"><br>\n",
    "</div>"
   ]
  },
  {
   "cell_type": "markdown",
   "id": "a1259175",
   "metadata": {},
   "source": [
    "<div align=\"center\">\n",
    "    <h1 style=\"font-weight:bold; color:#183153;\" >Yiender Condori Galdos</h1>\n",
    "    <h3 style=\"font-family:'proxima-soft', sans-serif; font-size:1.5rem; font-weight:bold; color:#0ca678; margin-top:0.7rem;\" >UNIVERSIDAD NACIONAL DE MOQUEGUA</h3>\n",
    "</div>"
   ]
  },
  {
   "cell_type": "markdown",
   "id": "64770028",
   "metadata": {},
   "source": [
    "<div class=\"estilo\" align=\"center\" style=\"display:block;\">\n",
    "        <a href=\"https://github.com/Jinder2050\" target=\"_blank\" style=\"padding: 0.2rem;\"><img src=\"https://img.shields.io/badge/GitHub-%2312100E.svg?&style=for-the-badge&logo=Github&logoColor=white\"/></a>\n",
    "        <a href=\"https://www.facebook.com/JiNnDeRC\" target=\"_blank\" style=\"padding: 0.2rem;\"><img src=\"https://img.shields.io/badge/facebook-%233B5998.svg?&style=for-the-badge&logo=facebook&logoColor=white\"/></a>\n",
    "        <a href=\"https://www.instagram.com/jinnder07/\" target=\"_blank\" style=\"padding: 0.2rem;\"><img src=\"https://img.shields.io/badge/instagram-%23dc2743.svg?&style=for-the-badge&logo=instagram&logoColor=white\"/></a>\n",
    "        <a href=\"https://www.linkedin.com/in/yiender-condori-galdos-6a536020b/\" target=\"_blank\" style=\"padding: 0.2rem;\"><img src=\"https://img.shields.io/badge/linkedin-%230077B5.svg?&style=for-the-badge&logo=linkedin&logoColor=white\"/></a>\n",
    "</div>\n",
    "<br>"
   ]
  },
  {
   "cell_type": "code",
   "execution_count": null,
   "id": "2d4b5e17",
   "metadata": {},
   "outputs": [],
   "source": []
  }
 ],
 "metadata": {
  "kernelspec": {
   "display_name": "Python 3 (ipykernel)",
   "language": "python",
   "name": "python3"
  },
  "language_info": {
   "codemirror_mode": {
    "name": "ipython",
    "version": 3
   },
   "file_extension": ".py",
   "mimetype": "text/x-python",
   "name": "python",
   "nbconvert_exporter": "python",
   "pygments_lexer": "ipython3",
   "version": "3.9.0"
  }
 },
 "nbformat": 4,
 "nbformat_minor": 5
}
